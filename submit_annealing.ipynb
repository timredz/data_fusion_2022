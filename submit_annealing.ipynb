{
 "cells": [
  {
   "cell_type": "code",
   "execution_count": 1,
   "metadata": {},
   "outputs": [],
   "source": [
    "import pandas as pd\n",
    "import numpy as np"
   ]
  },
  {
   "cell_type": "code",
   "execution_count": 2,
   "metadata": {},
   "outputs": [],
   "source": [
    "# submit file from @antklen (precision ~ 0.32, R1 ~ 0.0831)\n",
    "S1 = pd.read_csv('../submit_data/subm_0-0831.csv')\n",
    "\n",
    "# submit files from (v5_daily_cross.ipynb, low precision, high mrr)\n",
    "S2 = pd.read_csv('../submit_data/cross_v1_7_200.csv')\n",
    "S3 = pd.read_csv('../submit_data/cross_v1.csv')\n",
    "S4 = pd.read_csv('../submit_data/cross_v3.csv')"
   ]
  },
  {
   "cell_type": "code",
   "execution_count": 3,
   "metadata": {},
   "outputs": [],
   "source": [
    "def listify(x):\n",
    "    rtks = x.split(', ')\n",
    "    rtks[0] = rtks[0][1:]\n",
    "    rtks[-1] = rtks[-1][:-1]\n",
    "    return rtks"
   ]
  },
  {
   "cell_type": "code",
   "execution_count": 4,
   "metadata": {},
   "outputs": [],
   "source": [
    "S1['rtk'] = S1['rtk_list'].apply(listify)\n",
    "S2['rtk'] = S2['rtk_list'].apply(listify)\n",
    "S3['rtk'] = S3['rtk_list'].apply(listify)\n",
    "S4['rtk'] = S4['rtk_list'].apply(listify)"
   ]
  },
  {
   "cell_type": "code",
   "execution_count": 5,
   "metadata": {},
   "outputs": [],
   "source": [
    "del S1['rtk_list']\n",
    "del S2['rtk_list']\n",
    "del S3['rtk_list']\n",
    "del S4['rtk_list']"
   ]
  },
  {
   "cell_type": "code",
   "execution_count": 6,
   "metadata": {},
   "outputs": [],
   "source": [
    "S1 = S1.explode('rtk')\n",
    "S2 = S2.explode('rtk')\n",
    "S3 = S3.explode('rtk')\n",
    "S4 = S4.explode('rtk')"
   ]
  },
  {
   "cell_type": "code",
   "execution_count": 7,
   "metadata": {},
   "outputs": [
    {
     "data": {
      "text/html": [
       "<div>\n",
       "<style scoped>\n",
       "    .dataframe tbody tr th:only-of-type {\n",
       "        vertical-align: middle;\n",
       "    }\n",
       "\n",
       "    .dataframe tbody tr th {\n",
       "        vertical-align: top;\n",
       "    }\n",
       "\n",
       "    .dataframe thead th {\n",
       "        text-align: right;\n",
       "    }\n",
       "</style>\n",
       "<table border=\"1\" class=\"dataframe\">\n",
       "  <thead>\n",
       "    <tr style=\"text-align: right;\">\n",
       "      <th></th>\n",
       "      <th>bank</th>\n",
       "      <th>rtk</th>\n",
       "    </tr>\n",
       "  </thead>\n",
       "  <tbody>\n",
       "    <tr>\n",
       "      <th>0</th>\n",
       "      <td>001708a5fca04c2ca58d7188b747d5f5</td>\n",
       "      <td>6a3f50c8ab3246e2a240cb98475c383f</td>\n",
       "    </tr>\n",
       "    <tr>\n",
       "      <th>0</th>\n",
       "      <td>001708a5fca04c2ca58d7188b747d5f5</td>\n",
       "      <td>9ca9be97d4cd4d278cb8425aad3dfc97</td>\n",
       "    </tr>\n",
       "    <tr>\n",
       "      <th>0</th>\n",
       "      <td>001708a5fca04c2ca58d7188b747d5f5</td>\n",
       "      <td>81facf32e0504ad190e002b22318f48d</td>\n",
       "    </tr>\n",
       "    <tr>\n",
       "      <th>0</th>\n",
       "      <td>001708a5fca04c2ca58d7188b747d5f5</td>\n",
       "      <td>1fca01621c3440c39003b05aa2b10be2</td>\n",
       "    </tr>\n",
       "    <tr>\n",
       "      <th>0</th>\n",
       "      <td>001708a5fca04c2ca58d7188b747d5f5</td>\n",
       "      <td>117c8ebe50f240949a1f24004786bb02</td>\n",
       "    </tr>\n",
       "  </tbody>\n",
       "</table>\n",
       "</div>"
      ],
      "text/plain": [
       "                               bank                               rtk\n",
       "0  001708a5fca04c2ca58d7188b747d5f5  6a3f50c8ab3246e2a240cb98475c383f\n",
       "0  001708a5fca04c2ca58d7188b747d5f5  9ca9be97d4cd4d278cb8425aad3dfc97\n",
       "0  001708a5fca04c2ca58d7188b747d5f5  81facf32e0504ad190e002b22318f48d\n",
       "0  001708a5fca04c2ca58d7188b747d5f5  1fca01621c3440c39003b05aa2b10be2\n",
       "0  001708a5fca04c2ca58d7188b747d5f5  117c8ebe50f240949a1f24004786bb02"
      ]
     },
     "execution_count": 7,
     "metadata": {},
     "output_type": "execute_result"
    }
   ],
   "source": [
    "S1.head()"
   ]
  },
  {
   "cell_type": "code",
   "execution_count": 8,
   "metadata": {},
   "outputs": [],
   "source": [
    "S1['rank'] = S1.groupby('bank').cumcount()\n",
    "S2['rank2'] = S2.groupby('bank').cumcount()\n",
    "S3['rank3'] = S3.groupby('bank').cumcount()\n",
    "S4['rank4'] = S4.groupby('bank').cumcount()"
   ]
  },
  {
   "cell_type": "code",
   "execution_count": 9,
   "metadata": {},
   "outputs": [],
   "source": [
    "S = pd.merge(S1, S2, how='left', on=['bank', 'rtk'])\n",
    "S = pd.merge(S, S3, how='left', on=['bank', 'rtk'])\n",
    "S = pd.merge(S, S4, how='left', on=['bank', 'rtk'])"
   ]
  },
  {
   "cell_type": "code",
   "execution_count": 10,
   "metadata": {},
   "outputs": [
    {
     "data": {
      "text/html": [
       "<div>\n",
       "<style scoped>\n",
       "    .dataframe tbody tr th:only-of-type {\n",
       "        vertical-align: middle;\n",
       "    }\n",
       "\n",
       "    .dataframe tbody tr th {\n",
       "        vertical-align: top;\n",
       "    }\n",
       "\n",
       "    .dataframe thead th {\n",
       "        text-align: right;\n",
       "    }\n",
       "</style>\n",
       "<table border=\"1\" class=\"dataframe\">\n",
       "  <thead>\n",
       "    <tr style=\"text-align: right;\">\n",
       "      <th></th>\n",
       "      <th>bank</th>\n",
       "      <th>rtk</th>\n",
       "      <th>rank</th>\n",
       "      <th>rank2</th>\n",
       "      <th>rank3</th>\n",
       "      <th>rank4</th>\n",
       "    </tr>\n",
       "  </thead>\n",
       "  <tbody>\n",
       "    <tr>\n",
       "      <th>0</th>\n",
       "      <td>001708a5fca04c2ca58d7188b747d5f5</td>\n",
       "      <td>6a3f50c8ab3246e2a240cb98475c383f</td>\n",
       "      <td>0</td>\n",
       "      <td>NaN</td>\n",
       "      <td>NaN</td>\n",
       "      <td>NaN</td>\n",
       "    </tr>\n",
       "    <tr>\n",
       "      <th>1</th>\n",
       "      <td>001708a5fca04c2ca58d7188b747d5f5</td>\n",
       "      <td>9ca9be97d4cd4d278cb8425aad3dfc97</td>\n",
       "      <td>1</td>\n",
       "      <td>NaN</td>\n",
       "      <td>NaN</td>\n",
       "      <td>NaN</td>\n",
       "    </tr>\n",
       "    <tr>\n",
       "      <th>2</th>\n",
       "      <td>001708a5fca04c2ca58d7188b747d5f5</td>\n",
       "      <td>81facf32e0504ad190e002b22318f48d</td>\n",
       "      <td>2</td>\n",
       "      <td>NaN</td>\n",
       "      <td>NaN</td>\n",
       "      <td>NaN</td>\n",
       "    </tr>\n",
       "    <tr>\n",
       "      <th>3</th>\n",
       "      <td>001708a5fca04c2ca58d7188b747d5f5</td>\n",
       "      <td>1fca01621c3440c39003b05aa2b10be2</td>\n",
       "      <td>3</td>\n",
       "      <td>NaN</td>\n",
       "      <td>NaN</td>\n",
       "      <td>NaN</td>\n",
       "    </tr>\n",
       "    <tr>\n",
       "      <th>4</th>\n",
       "      <td>001708a5fca04c2ca58d7188b747d5f5</td>\n",
       "      <td>117c8ebe50f240949a1f24004786bb02</td>\n",
       "      <td>4</td>\n",
       "      <td>NaN</td>\n",
       "      <td>NaN</td>\n",
       "      <td>NaN</td>\n",
       "    </tr>\n",
       "  </tbody>\n",
       "</table>\n",
       "</div>"
      ],
      "text/plain": [
       "                               bank                               rtk  rank  \\\n",
       "0  001708a5fca04c2ca58d7188b747d5f5  6a3f50c8ab3246e2a240cb98475c383f     0   \n",
       "1  001708a5fca04c2ca58d7188b747d5f5  9ca9be97d4cd4d278cb8425aad3dfc97     1   \n",
       "2  001708a5fca04c2ca58d7188b747d5f5  81facf32e0504ad190e002b22318f48d     2   \n",
       "3  001708a5fca04c2ca58d7188b747d5f5  1fca01621c3440c39003b05aa2b10be2     3   \n",
       "4  001708a5fca04c2ca58d7188b747d5f5  117c8ebe50f240949a1f24004786bb02     4   \n",
       "\n",
       "   rank2  rank3  rank4  \n",
       "0    NaN    NaN    NaN  \n",
       "1    NaN    NaN    NaN  \n",
       "2    NaN    NaN    NaN  \n",
       "3    NaN    NaN    NaN  \n",
       "4    NaN    NaN    NaN  "
      ]
     },
     "execution_count": 10,
     "metadata": {},
     "output_type": "execute_result"
    }
   ],
   "source": [
    "S.head()"
   ]
  },
  {
   "cell_type": "code",
   "execution_count": 11,
   "metadata": {},
   "outputs": [],
   "source": [
    "S = S.sort_values(['bank', 'rank2', 'rank3', 'rank4', 'rank'])"
   ]
  },
  {
   "cell_type": "code",
   "execution_count": 12,
   "metadata": {},
   "outputs": [
    {
     "data": {
      "text/plain": [
       "0.07975969305331179"
      ]
     },
     "execution_count": 12,
     "metadata": {},
     "output_type": "execute_result"
    }
   ],
   "source": [
    "# доля записей, которые пересортировались\n",
    "S[(~S['rank2'].isnull()) | (~S['rank3'].isnull()) | (~S['rank4'].isnull())].shape[0]/S.shape[0]"
   ]
  },
  {
   "cell_type": "code",
   "execution_count": 13,
   "metadata": {},
   "outputs": [],
   "source": [
    "S = S[['bank', 'rtk']]\n",
    "S = S.pivot_table(index='bank', values='rtk', aggfunc=list)\n",
    "S = S.reset_index()\n",
    "S = S[['bank', 'rtk']]\n",
    "S.columns = ['bank', 'rtk_list']"
   ]
  },
  {
   "cell_type": "code",
   "execution_count": 14,
   "metadata": {},
   "outputs": [
    {
     "data": {
      "text/plain": [
       "(4952, 2)"
      ]
     },
     "execution_count": 14,
     "metadata": {},
     "output_type": "execute_result"
    }
   ],
   "source": [
    "S.shape"
   ]
  },
  {
   "cell_type": "code",
   "execution_count": 15,
   "metadata": {},
   "outputs": [],
   "source": [
    "S.to_csv('../submit_data/hybrid_submit.csv', index=None)"
   ]
  },
  {
   "cell_type": "code",
   "execution_count": 16,
   "metadata": {},
   "outputs": [
    {
     "data": {
      "text/html": [
       "<div>\n",
       "<style scoped>\n",
       "    .dataframe tbody tr th:only-of-type {\n",
       "        vertical-align: middle;\n",
       "    }\n",
       "\n",
       "    .dataframe tbody tr th {\n",
       "        vertical-align: top;\n",
       "    }\n",
       "\n",
       "    .dataframe thead th {\n",
       "        text-align: right;\n",
       "    }\n",
       "</style>\n",
       "<table border=\"1\" class=\"dataframe\">\n",
       "  <thead>\n",
       "    <tr style=\"text-align: right;\">\n",
       "      <th></th>\n",
       "      <th>bank</th>\n",
       "      <th>rtk_list</th>\n",
       "    </tr>\n",
       "  </thead>\n",
       "  <tbody>\n",
       "    <tr>\n",
       "      <th>0</th>\n",
       "      <td>001708a5fca04c2ca58d7188b747d5f5</td>\n",
       "      <td>[02831d884f5445c0a6acd600752e8630, 6a3f50c8ab3...</td>\n",
       "    </tr>\n",
       "    <tr>\n",
       "      <th>1</th>\n",
       "      <td>0025930588d249ec8e73936f6a6d05bd</td>\n",
       "      <td>[a477046586084eadab508b996dcb273c, 9b459f90d97...</td>\n",
       "    </tr>\n",
       "    <tr>\n",
       "      <th>2</th>\n",
       "      <td>0034020d25da4951b559da1d3171a1e3</td>\n",
       "      <td>[22dd90b05611479cb8ab7d29092a3aaf, c6216c3cbe2...</td>\n",
       "    </tr>\n",
       "    <tr>\n",
       "      <th>3</th>\n",
       "      <td>00491339a09c4638a0f27ca51f615d67</td>\n",
       "      <td>[cc0070c7f5484076a69f4465addfab26, 010e097f57b...</td>\n",
       "    </tr>\n",
       "    <tr>\n",
       "      <th>4</th>\n",
       "      <td>006415c4240844e0810617ecebbd2db4</td>\n",
       "      <td>[c5e93edb6f914acf83b2a3e0bec43b66, 3b323c590d3...</td>\n",
       "    </tr>\n",
       "  </tbody>\n",
       "</table>\n",
       "</div>"
      ],
      "text/plain": [
       "                               bank  \\\n",
       "0  001708a5fca04c2ca58d7188b747d5f5   \n",
       "1  0025930588d249ec8e73936f6a6d05bd   \n",
       "2  0034020d25da4951b559da1d3171a1e3   \n",
       "3  00491339a09c4638a0f27ca51f615d67   \n",
       "4  006415c4240844e0810617ecebbd2db4   \n",
       "\n",
       "                                            rtk_list  \n",
       "0  [02831d884f5445c0a6acd600752e8630, 6a3f50c8ab3...  \n",
       "1  [a477046586084eadab508b996dcb273c, 9b459f90d97...  \n",
       "2  [22dd90b05611479cb8ab7d29092a3aaf, c6216c3cbe2...  \n",
       "3  [cc0070c7f5484076a69f4465addfab26, 010e097f57b...  \n",
       "4  [c5e93edb6f914acf83b2a3e0bec43b66, 3b323c590d3...  "
      ]
     },
     "execution_count": 16,
     "metadata": {},
     "output_type": "execute_result"
    }
   ],
   "source": [
    "S.head()"
   ]
  }
 ],
 "metadata": {
  "kernelspec": {
   "display_name": "Python 3",
   "language": "python",
   "name": "python3"
  },
  "language_info": {
   "codemirror_mode": {
    "name": "ipython",
    "version": 3
   },
   "file_extension": ".py",
   "mimetype": "text/x-python",
   "name": "python",
   "nbconvert_exporter": "python",
   "pygments_lexer": "ipython3",
   "version": "3.7.6"
  }
 },
 "nbformat": 4,
 "nbformat_minor": 4
}
