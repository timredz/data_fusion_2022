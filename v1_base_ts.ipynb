{
 "cells": [
  {
   "cell_type": "code",
   "execution_count": 40,
   "metadata": {},
   "outputs": [],
   "source": [
    "import pandas as pd\n",
    "import numpy as np\n",
    "from catboost import CatBoostClassifier\n",
    "import gc\n",
    "import time\n",
    "import random"
   ]
  },
  {
   "cell_type": "code",
   "execution_count": 41,
   "metadata": {},
   "outputs": [],
   "source": [
    "import matplotlib.pyplot as plt\n",
    "plt.rcParams['figure.figsize'] = (12, 10) \n",
    "plt.style.use('ggplot')"
   ]
  },
  {
   "cell_type": "code",
   "execution_count": 42,
   "metadata": {},
   "outputs": [],
   "source": [
    "transactions = pd.read_csv('../../data_mini/transactions.csv')"
   ]
  },
  {
   "cell_type": "code",
   "execution_count": 43,
   "metadata": {},
   "outputs": [],
   "source": [
    "q = transactions['mcc_code'].value_counts()\n",
    "valid_mcc = list(q[q<5000].index)\n",
    "transactions.loc[transactions['mcc_code'].isin(valid_mcc), 'mcc_code'] = 9999"
   ]
  },
  {
   "cell_type": "code",
   "execution_count": 44,
   "metadata": {},
   "outputs": [
    {
     "data": {
      "text/html": [
       "<div>\n",
       "<style scoped>\n",
       "    .dataframe tbody tr th:only-of-type {\n",
       "        vertical-align: middle;\n",
       "    }\n",
       "\n",
       "    .dataframe tbody tr th {\n",
       "        vertical-align: top;\n",
       "    }\n",
       "\n",
       "    .dataframe thead th {\n",
       "        text-align: right;\n",
       "    }\n",
       "</style>\n",
       "<table border=\"1\" class=\"dataframe\">\n",
       "  <thead>\n",
       "    <tr style=\"text-align: right;\">\n",
       "      <th></th>\n",
       "      <th>user_id</th>\n",
       "      <th>mcc_code</th>\n",
       "      <th>transaction_amt</th>\n",
       "      <th>transaction_dttm</th>\n",
       "    </tr>\n",
       "  </thead>\n",
       "  <tbody>\n",
       "    <tr>\n",
       "      <th>0</th>\n",
       "      <td>20406</td>\n",
       "      <td>5411</td>\n",
       "      <td>-361</td>\n",
       "      <td>2020-08-03 08:05:23</td>\n",
       "    </tr>\n",
       "    <tr>\n",
       "      <th>1</th>\n",
       "      <td>20406</td>\n",
       "      <td>5499</td>\n",
       "      <td>-137</td>\n",
       "      <td>2020-08-05 01:27:40</td>\n",
       "    </tr>\n",
       "    <tr>\n",
       "      <th>2</th>\n",
       "      <td>20406</td>\n",
       "      <td>5499</td>\n",
       "      <td>-138</td>\n",
       "      <td>2020-08-05 03:28:11</td>\n",
       "    </tr>\n",
       "    <tr>\n",
       "      <th>3</th>\n",
       "      <td>20406</td>\n",
       "      <td>4829</td>\n",
       "      <td>-309</td>\n",
       "      <td>2020-08-06 00:36:29</td>\n",
       "    </tr>\n",
       "    <tr>\n",
       "      <th>4</th>\n",
       "      <td>20406</td>\n",
       "      <td>5411</td>\n",
       "      <td>-133</td>\n",
       "      <td>2020-08-09 00:30:13</td>\n",
       "    </tr>\n",
       "  </tbody>\n",
       "</table>\n",
       "</div>"
      ],
      "text/plain": [
       "   user_id  mcc_code  transaction_amt     transaction_dttm\n",
       "0    20406      5411             -361  2020-08-03 08:05:23\n",
       "1    20406      5499             -137  2020-08-05 01:27:40\n",
       "2    20406      5499             -138  2020-08-05 03:28:11\n",
       "3    20406      4829             -309  2020-08-06 00:36:29\n",
       "4    20406      5411             -133  2020-08-09 00:30:13"
      ]
     },
     "execution_count": 44,
     "metadata": {},
     "output_type": "execute_result"
    }
   ],
   "source": [
    "transactions.head()"
   ]
  },
  {
   "cell_type": "code",
   "execution_count": 45,
   "metadata": {},
   "outputs": [],
   "source": [
    "clickstream = pd.read_csv('../../data_mini/clickstream.csv')"
   ]
  },
  {
   "cell_type": "code",
   "execution_count": 46,
   "metadata": {},
   "outputs": [],
   "source": [
    "q = clickstream['cat_id'].value_counts()\n",
    "valid_cats = q[q<5000].index\n",
    "clickstream.loc[clickstream['cat_id'].isin(valid_cats), 'cat_id'] = 9998"
   ]
  },
  {
   "cell_type": "code",
   "execution_count": 47,
   "metadata": {},
   "outputs": [
    {
     "data": {
      "text/html": [
       "<div>\n",
       "<style scoped>\n",
       "    .dataframe tbody tr th:only-of-type {\n",
       "        vertical-align: middle;\n",
       "    }\n",
       "\n",
       "    .dataframe tbody tr th {\n",
       "        vertical-align: top;\n",
       "    }\n",
       "\n",
       "    .dataframe thead th {\n",
       "        text-align: right;\n",
       "    }\n",
       "</style>\n",
       "<table border=\"1\" class=\"dataframe\">\n",
       "  <thead>\n",
       "    <tr style=\"text-align: right;\">\n",
       "      <th></th>\n",
       "      <th>user_id</th>\n",
       "      <th>cat_id</th>\n",
       "      <th>timestamp</th>\n",
       "    </tr>\n",
       "  </thead>\n",
       "  <tbody>\n",
       "    <tr>\n",
       "      <th>0</th>\n",
       "      <td>6877</td>\n",
       "      <td>165</td>\n",
       "      <td>2021-01-30 20:08:12</td>\n",
       "    </tr>\n",
       "    <tr>\n",
       "      <th>1</th>\n",
       "      <td>6877</td>\n",
       "      <td>165</td>\n",
       "      <td>2021-01-31 20:06:29</td>\n",
       "    </tr>\n",
       "    <tr>\n",
       "      <th>2</th>\n",
       "      <td>6877</td>\n",
       "      <td>308</td>\n",
       "      <td>2021-01-31 20:12:00</td>\n",
       "    </tr>\n",
       "    <tr>\n",
       "      <th>3</th>\n",
       "      <td>6877</td>\n",
       "      <td>931</td>\n",
       "      <td>2021-01-31 22:12:00</td>\n",
       "    </tr>\n",
       "    <tr>\n",
       "      <th>4</th>\n",
       "      <td>6877</td>\n",
       "      <td>931</td>\n",
       "      <td>2021-02-01 16:57:00</td>\n",
       "    </tr>\n",
       "  </tbody>\n",
       "</table>\n",
       "</div>"
      ],
      "text/plain": [
       "   user_id  cat_id            timestamp\n",
       "0     6877     165  2021-01-30 20:08:12\n",
       "1     6877     165  2021-01-31 20:06:29\n",
       "2     6877     308  2021-01-31 20:12:00\n",
       "3     6877     931  2021-01-31 22:12:00\n",
       "4     6877     931  2021-02-01 16:57:00"
      ]
     },
     "execution_count": 47,
     "metadata": {},
     "output_type": "execute_result"
    }
   ],
   "source": [
    "clickstream.head()"
   ]
  },
  {
   "cell_type": "code",
   "execution_count": 48,
   "metadata": {},
   "outputs": [
    {
     "name": "stdout",
     "output_type": "stream",
     "text": [
      "123 112\n"
     ]
    }
   ],
   "source": [
    "print(transactions['mcc_code'].nunique(), clickstream['cat_id'].nunique())"
   ]
  },
  {
   "cell_type": "code",
   "execution_count": 49,
   "metadata": {},
   "outputs": [
    {
     "data": {
      "text/html": [
       "<div>\n",
       "<style scoped>\n",
       "    .dataframe tbody tr th:only-of-type {\n",
       "        vertical-align: middle;\n",
       "    }\n",
       "\n",
       "    .dataframe tbody tr th {\n",
       "        vertical-align: top;\n",
       "    }\n",
       "\n",
       "    .dataframe thead th {\n",
       "        text-align: right;\n",
       "    }\n",
       "</style>\n",
       "<table border=\"1\" class=\"dataframe\">\n",
       "  <thead>\n",
       "    <tr style=\"text-align: right;\">\n",
       "      <th></th>\n",
       "      <th>bank</th>\n",
       "      <th>rtk</th>\n",
       "      <th>target</th>\n",
       "      <th>fold</th>\n",
       "    </tr>\n",
       "  </thead>\n",
       "  <tbody>\n",
       "    <tr>\n",
       "      <th>0</th>\n",
       "      <td>6090</td>\n",
       "      <td>16219</td>\n",
       "      <td>1</td>\n",
       "      <td>0</td>\n",
       "    </tr>\n",
       "    <tr>\n",
       "      <th>1</th>\n",
       "      <td>21920</td>\n",
       "      <td>16282</td>\n",
       "      <td>1</td>\n",
       "      <td>2</td>\n",
       "    </tr>\n",
       "    <tr>\n",
       "      <th>2</th>\n",
       "      <td>15668</td>\n",
       "      <td>18578</td>\n",
       "      <td>1</td>\n",
       "      <td>1</td>\n",
       "    </tr>\n",
       "    <tr>\n",
       "      <th>3</th>\n",
       "      <td>17254</td>\n",
       "      <td>13760</td>\n",
       "      <td>1</td>\n",
       "      <td>0</td>\n",
       "    </tr>\n",
       "    <tr>\n",
       "      <th>4</th>\n",
       "      <td>14856</td>\n",
       "      <td>9899</td>\n",
       "      <td>1</td>\n",
       "      <td>2</td>\n",
       "    </tr>\n",
       "  </tbody>\n",
       "</table>\n",
       "</div>"
      ],
      "text/plain": [
       "    bank    rtk  target  fold\n",
       "0   6090  16219       1     0\n",
       "1  21920  16282       1     2\n",
       "2  15668  18578       1     1\n",
       "3  17254  13760       1     0\n",
       "4  14856   9899       1     2"
      ]
     },
     "execution_count": 49,
     "metadata": {},
     "output_type": "execute_result"
    }
   ],
   "source": [
    "Z = pd.read_csv('../../data_mini/train_matching_puzzle_folded.csv')\n",
    "Z.head()"
   ]
  },
  {
   "cell_type": "code",
   "execution_count": 50,
   "metadata": {},
   "outputs": [],
   "source": [
    "transactions = transactions[transactions['user_id'].isin(list(Z['bank']))]\n",
    "clickstream = clickstream[clickstream['user_id'].isin(list(Z['rtk']))]"
   ]
  },
  {
   "cell_type": "code",
   "execution_count": 51,
   "metadata": {},
   "outputs": [],
   "source": [
    "transactions['transaction_amt'] = abs(transactions['transaction_amt'])\n",
    "transactions['transaction_dttm'] = pd.to_datetime(transactions['transaction_dttm'])\n",
    "transactions['hour'] = transactions['transaction_dttm'].dt.hour\n",
    "\n",
    "#кол-во минут с начала суток\n",
    "transactions['sec1'] = transactions['hour'] * 60 + transactions['transaction_dttm'].dt.minute"
   ]
  },
  {
   "cell_type": "code",
   "execution_count": 52,
   "metadata": {},
   "outputs": [],
   "source": [
    "bankclient_embed = transactions.pivot_table(index = ['user_id'],\n",
    "                            values=['sec1'],\n",
    "                            columns=['mcc_code'],\n",
    "                            aggfunc=['count', 'median']).fillna(0)\n",
    "bankclient_embed.columns = ['v1_' + str(col[0]) + '-' + str(col[2]) for col in bankclient_embed.columns]"
   ]
  },
  {
   "cell_type": "code",
   "execution_count": 53,
   "metadata": {},
   "outputs": [],
   "source": [
    "be = transactions.pivot_table(index = ['user_id'],\n",
    "                            values=['transaction_amt'],\n",
    "                            columns=['mcc_code'],\n",
    "                            aggfunc=['sum']).fillna(0)\n",
    "be.columns = ['v1_' + str(col[0]) + '-' + str(col[2]) for col in be.columns]\n",
    "\n",
    "bankclient_embed = bankclient_embed.merge(be, how='left', left_index=True, right_index=True)"
   ]
  },
  {
   "cell_type": "code",
   "execution_count": 54,
   "metadata": {},
   "outputs": [],
   "source": [
    "bankclient_embed['mcc_total'] = transactions.groupby('user_id')['mcc_code'].sum()"
   ]
  },
  {
   "cell_type": "code",
   "execution_count": 55,
   "metadata": {},
   "outputs": [],
   "source": [
    "for col in bankclient_embed.columns:\n",
    "    if 'count' in col:\n",
    "        bankclient_embed[col+'_sh'] = bankclient_embed[col] / bankclient_embed['mcc_total']"
   ]
  },
  {
   "cell_type": "code",
   "execution_count": 56,
   "metadata": {},
   "outputs": [],
   "source": [
    "transactions_by_hour = pd.pivot_table(transactions, index=['user_id'], columns='hour', values='transaction_amt', aggfunc='count').fillna(0).astype('int32')\n",
    "transactions_by_hour['tr_sum'] = transactions_by_hour.sum(axis=1)\n",
    "for col in transactions_by_hour.columns[:-1]:\n",
    "    transactions_by_hour[col] /= transactions_by_hour['tr_sum']\n",
    "\n",
    "del transactions_by_hour['tr_sum']\n",
    "transactions_by_hour.columns = ['trans_h_'+ str(col) + '_sh' for col in transactions_by_hour.columns]"
   ]
  },
  {
   "cell_type": "code",
   "execution_count": 57,
   "metadata": {},
   "outputs": [
    {
     "data": {
      "text/plain": [
       "40"
      ]
     },
     "execution_count": 57,
     "metadata": {},
     "output_type": "execute_result"
    }
   ],
   "source": [
    "del transactions\n",
    "gc.collect()"
   ]
  },
  {
   "cell_type": "code",
   "execution_count": 58,
   "metadata": {},
   "outputs": [],
   "source": [
    "clickstream['timestamp'] = pd.to_datetime(clickstream['timestamp'])\n",
    "clickstream['hour'] = clickstream['timestamp'].dt.hour\n",
    "\n",
    "#кол-во минут с начала суток\n",
    "clickstream['sec2'] = clickstream['hour']*60 + clickstream['timestamp'].dt.minute"
   ]
  },
  {
   "cell_type": "code",
   "execution_count": 59,
   "metadata": {},
   "outputs": [],
   "source": [
    "clickstream_embed = clickstream.pivot_table(index = ['user_id'],\n",
    "                        values=['sec2'],\n",
    "                        columns=['cat_id'],\n",
    "                        aggfunc=['count', 'median']).fillna(0)\n",
    "\n",
    "clickstream_embed.columns = ['v2_' + str(col[0]) + '-' + str(col[2]) for col in clickstream_embed.columns]"
   ]
  },
  {
   "cell_type": "code",
   "execution_count": 60,
   "metadata": {},
   "outputs": [],
   "source": [
    "clickstream_embed['cat_total'] = clickstream.groupby('user_id')['cat_id'].sum()"
   ]
  },
  {
   "cell_type": "code",
   "execution_count": 61,
   "metadata": {},
   "outputs": [],
   "source": [
    "for col in clickstream_embed.columns:\n",
    "    if 'count' in col:\n",
    "        clickstream_embed[col+'_sh'] = clickstream_embed[col] / clickstream_embed['cat_total']"
   ]
  },
  {
   "cell_type": "code",
   "execution_count": 62,
   "metadata": {},
   "outputs": [],
   "source": [
    "clicks_by_hour = pd.pivot_table(clickstream, index='user_id', columns='hour', values='timestamp', aggfunc='count').fillna(0).astype('int32')\n",
    "clicks_by_hour['cl_sum'] = clicks_by_hour.sum(axis=1)\n",
    "for col in clicks_by_hour.columns[:-1]:\n",
    "    clicks_by_hour[col] /= clicks_by_hour['cl_sum']\n",
    "\n",
    "del clicks_by_hour['cl_sum']\n",
    "clicks_by_hour.columns = ['click_h_'+ str(col) + '_sh' for col in clicks_by_hour.columns]"
   ]
  },
  {
   "cell_type": "code",
   "execution_count": 63,
   "metadata": {},
   "outputs": [
    {
     "data": {
      "text/plain": [
       "40"
      ]
     },
     "execution_count": 63,
     "metadata": {},
     "output_type": "execute_result"
    }
   ],
   "source": [
    "del clickstream\n",
    "gc.collect()"
   ]
  },
  {
   "cell_type": "code",
   "execution_count": 64,
   "metadata": {},
   "outputs": [],
   "source": [
    "def df_compress(df):\n",
    "    dtype_df = list()\n",
    "    for col, tp in zip(df.columns.tolist(), df.dtypes.tolist()):\n",
    "        if '_sh' in col:\n",
    "            dtype_df.append('float32')\n",
    "        elif 'count' in col:\n",
    "            dtype_df.append('int32')    \n",
    "        elif 'mean' in col:\n",
    "            dtype_df.append('int32')\n",
    "        elif 'median' in col:\n",
    "            dtype_df.append('int32')\n",
    "        elif 'sum' in col:\n",
    "            dtype_df.append('int64')\n",
    "        elif col in ['bank', 'rtk', 'target', 'fold']:\n",
    "            dtype_df.append('int16')\n",
    "        elif tp in ['int64', 'int32']:\n",
    "            dtype_df.append('int32')\n",
    "        elif tp in ['float64', 'float32']:\n",
    "            dtype_df.append('float32')\n",
    "        else:\n",
    "            dtype_df.append('object')\n",
    "    \n",
    "    dtype_df = dict(zip(df.columns.tolist(),dtype_df))\n",
    "    df = df.astype(dtype_df)\n",
    "    return df"
   ]
  },
  {
   "cell_type": "code",
   "execution_count": 65,
   "metadata": {},
   "outputs": [],
   "source": [
    "bankclient_embed = bankclient_embed.merge(transactions_by_hour, how='left', left_index=True, right_index=True)\n",
    "clickstream_embed = clickstream_embed.merge(clicks_by_hour, how='left', left_index=True, right_index=True)"
   ]
  },
  {
   "cell_type": "code",
   "execution_count": 66,
   "metadata": {},
   "outputs": [],
   "source": [
    "clickstream_embed = df_compress(clickstream_embed)"
   ]
  },
  {
   "cell_type": "code",
   "execution_count": 67,
   "metadata": {},
   "outputs": [],
   "source": [
    "bankclient_embed = df_compress(bankclient_embed)"
   ]
  },
  {
   "cell_type": "code",
   "execution_count": 68,
   "metadata": {},
   "outputs": [],
   "source": [
    "bankclient_embed = bankclient_embed.reset_index()\n",
    "clickstream_embed = clickstream_embed.reset_index()\n",
    "bankclient_embed.rename(columns={'user_id': 'bank'}, inplace=True)\n",
    "clickstream_embed.rename(columns={'user_id': 'rtk'}, inplace=True)"
   ]
  },
  {
   "cell_type": "code",
   "execution_count": 69,
   "metadata": {},
   "outputs": [
    {
     "name": "stdout",
     "output_type": "stream",
     "text": [
      "<class 'pandas.core.frame.DataFrame'>\n",
      "RangeIndex: 14671 entries, 0 to 14670\n",
      "Columns: 362 entries, rtk to click_h_23_sh\n",
      "dtypes: float32(136), int32(225), int64(1)\n",
      "memory usage: 20.3 MB\n"
     ]
    }
   ],
   "source": [
    "clickstream_embed.info()"
   ]
  },
  {
   "cell_type": "markdown",
   "metadata": {},
   "source": [
    "### CV"
   ]
  },
  {
   "cell_type": "code",
   "execution_count": 70,
   "metadata": {},
   "outputs": [],
   "source": [
    "# min-max scaler by rtk\n",
    "def nxscaler(df, col):\n",
    "    g = df.groupby('rtk')[col]\n",
    "    min_, max_ = g.transform('min'), g.transform('max')\n",
    "    df[col+'_scaled'] = (df[col] - min_) / (max_ - min_)\n",
    "    return df"
   ]
  },
  {
   "cell_type": "code",
   "execution_count": 86,
   "metadata": {},
   "outputs": [],
   "source": [
    "def score(df):\n",
    "    df = df.sort_values(['pred'], ascending=False)\n",
    "    df100 = df.groupby('bank').head(100).copy()\n",
    "    df100['rank'] = df100.groupby('bank').cumcount()\n",
    "    df100['mrr'] = df100['target'] * (1 / (1 + df100['rank']))\n",
    "    q = df100.groupby('bank')['mrr'].max()\n",
    "    precision = len(q[q > 0]) / len(q)\n",
    "    mrr = q.mean()\n",
    "    r1 = 2 * precision * mrr / (precision + mrr)\n",
    "    return {'R1': round(r1, 4), 'MRR': round(mrr, 4), 'precision': round(precision, 4)}"
   ]
  },
  {
   "cell_type": "code",
   "execution_count": 72,
   "metadata": {},
   "outputs": [
    {
     "name": "stdout",
     "output_type": "stream",
     "text": [
      "9780 4891\n",
      "0:\tlearn: 0.6672702\ttotal: 427ms\tremaining: 24m 55s\n",
      "350:\tlearn: 0.2849831\ttotal: 37.9s\tremaining: 5m 39s\n",
      "700:\tlearn: 0.2664235\ttotal: 1m 13s\tremaining: 4m 54s\n",
      "1050:\tlearn: 0.2532016\ttotal: 1m 49s\tremaining: 4m 13s\n",
      "1400:\tlearn: 0.2420058\ttotal: 2m 24s\tremaining: 3m 36s\n",
      "1750:\tlearn: 0.2324575\ttotal: 2m 59s\tremaining: 2m 59s\n",
      "2100:\tlearn: 0.2237240\ttotal: 3m 34s\tremaining: 2m 22s\n",
      "2450:\tlearn: 0.2157923\ttotal: 4m 9s\tremaining: 1m 46s\n",
      "2800:\tlearn: 0.2081138\ttotal: 4m 46s\tremaining: 1m 11s\n",
      "3150:\tlearn: 0.2012791\ttotal: 5m 26s\tremaining: 36.1s\n",
      "3499:\tlearn: 0.1944513\ttotal: 6m 9s\tremaining: 0us\n",
      "9781 4890\n",
      "0:\tlearn: 0.6672671\ttotal: 159ms\tremaining: 9m 15s\n",
      "350:\tlearn: 0.2844638\ttotal: 44.1s\tremaining: 6m 35s\n",
      "700:\tlearn: 0.2651734\ttotal: 1m 28s\tremaining: 5m 53s\n",
      "1050:\tlearn: 0.2515776\ttotal: 2m 7s\tremaining: 4m 57s\n",
      "1400:\tlearn: 0.2409146\ttotal: 2m 44s\tremaining: 4m 7s\n",
      "1750:\tlearn: 0.2312260\ttotal: 3m 22s\tremaining: 3m 22s\n",
      "2100:\tlearn: 0.2222714\ttotal: 3m 58s\tremaining: 2m 38s\n",
      "2450:\tlearn: 0.2145624\ttotal: 4m 36s\tremaining: 1m 58s\n",
      "2800:\tlearn: 0.2070186\ttotal: 5m 14s\tremaining: 1m 18s\n",
      "3150:\tlearn: 0.2000147\ttotal: 5m 50s\tremaining: 38.8s\n",
      "3499:\tlearn: 0.1933384\ttotal: 6m 25s\tremaining: 0us\n",
      "9781 4890\n",
      "0:\tlearn: 0.6670743\ttotal: 166ms\tremaining: 9m 41s\n",
      "350:\tlearn: 0.2848596\ttotal: 41.4s\tremaining: 6m 11s\n",
      "700:\tlearn: 0.2655247\ttotal: 1m 19s\tremaining: 5m 17s\n",
      "1050:\tlearn: 0.2522772\ttotal: 1m 56s\tremaining: 4m 31s\n",
      "1400:\tlearn: 0.2410382\ttotal: 2m 32s\tremaining: 3m 48s\n",
      "1750:\tlearn: 0.2320079\ttotal: 3m 9s\tremaining: 3m 9s\n",
      "2100:\tlearn: 0.2232617\ttotal: 3m 46s\tremaining: 2m 30s\n",
      "2450:\tlearn: 0.2153211\ttotal: 4m 23s\tremaining: 1m 52s\n",
      "2800:\tlearn: 0.2078681\ttotal: 4m 59s\tremaining: 1m 14s\n",
      "3150:\tlearn: 0.2008026\ttotal: 5m 36s\tremaining: 37.3s\n",
      "3499:\tlearn: 0.1943967\ttotal: 6m 12s\tremaining: 0us\n",
      "Wall time: 40min 51s\n"
     ]
    }
   ],
   "source": [
    "%%time\n",
    "\n",
    "ALL_FOLDS = pd.DataFrame()\n",
    "for fold in range(3):\n",
    "    train, test = Z[Z['fold'] != fold], Z[Z['fold'] == fold]\n",
    "    print(train.shape[0], test.shape[0])\n",
    "    \n",
    "    b_embed_train = bankclient_embed[bankclient_embed['bank'].isin(train['bank'])]\n",
    "    b_embed_test = bankclient_embed[bankclient_embed['bank'].isin(test['bank'])]\n",
    "\n",
    "    c_embed_train = clickstream_embed[clickstream_embed['rtk'].isin(train['rtk'])]\n",
    "    c_embed_test = clickstream_embed[clickstream_embed['rtk'].isin(test['rtk'])]\n",
    "    \n",
    "    #### train set\n",
    "    N = 9\n",
    "    \n",
    "    bank_ids = list(train['bank'])\n",
    "    rtk_ids = list(train['rtk'])\n",
    "    part_of_submit = pd.DataFrame(bank_ids, columns=['bank'])\n",
    "    part_of_submit['rtk'] = part_of_submit['bank'].apply(lambda x: random.sample(rtk_ids, N))\n",
    "    part_of_submit = part_of_submit.explode('rtk').astype('int16')\n",
    "    \n",
    "    part_of_submit['target'] = 0\n",
    "    part_of_submit = part_of_submit.append(train.drop('fold', axis=1), ignore_index=True)\n",
    "    part_of_submit = part_of_submit.drop_duplicates(['bank', 'rtk'], keep='last')\n",
    "    \n",
    "    part_of_submit = part_of_submit.merge(b_embed_train, how='left', on=['bank']).merge(c_embed_train, how='left', on=['rtk'])\n",
    "    \n",
    "    X_train = part_of_submit.drop(['bank', 'rtk', 'target'], axis=1)\n",
    "    y_train = part_of_submit['target']\n",
    "    \n",
    "    #### train catboost\n",
    "    clf = CatBoostClassifier(\n",
    "        iterations=3500,\n",
    "        learning_rate=0.03,\n",
    "        verbose=350,\n",
    "    )\n",
    "    \n",
    "    clf.fit(X_train, y_train)\n",
    "    \n",
    "    #### ptredict on test\n",
    "    batch_num = 500\n",
    "    K = len(b_embed_test['bank'])//batch_num\n",
    " \n",
    "    FOLD = pd.DataFrame()\n",
    "    bank_ids = list(test['bank'])\n",
    "    rtk_ids = list(test['rtk'])\n",
    "    for i in range(K+1):\n",
    "        this_bank_ids = bank_ids[i*batch_num:(i+1)*batch_num]\n",
    "        ps = pd.DataFrame(this_bank_ids, columns=['bank'])\n",
    "        ps['rtk'] = ps['bank'].apply(lambda x: rtk_ids)\n",
    "        ps = ps.explode('rtk').astype('int16')\n",
    "        ps = ps.merge(b_embed_test, how='left', on=['bank']).merge(c_embed_test, how='left', on=['rtk'])\n",
    "\n",
    "        tdf = ps[['bank', 'rtk']].copy()\n",
    "        \n",
    "        tdf['pred'] = clf.predict_proba(ps.drop(['bank', 'rtk'], axis=1))[:,1]\n",
    "        FOLD = FOLD.append(tdf, ignore_index=True)\n",
    "\n",
    "    FOLD['fold'] = fold\n",
    "    ALL_FOLDS = ALL_FOLDS.append(FOLD, ignore_index=True)"
   ]
  },
  {
   "cell_type": "code",
   "execution_count": 78,
   "metadata": {},
   "outputs": [],
   "source": [
    "ALL_FOLDS = pd.merge(ALL_FOLDS, Z[['bank', 'rtk', 'target']], how='left', on=['bank', 'rtk'])\n",
    "ALL_FOLDS['target'] = ALL_FOLDS['target'].fillna(0).astype(int)\n",
    "\n",
    "ALL_FOLDS = nxscaler(ALL_FOLDS, 'pred')\n",
    "ALL_FOLDS['pred_h'] = ALL_FOLDS['pred_scaled'] * ALL_FOLDS['pred'] / (ALL_FOLDS['pred_scaled'] + ALL_FOLDS['pred'])"
   ]
  },
  {
   "cell_type": "code",
   "execution_count": 87,
   "metadata": {},
   "outputs": [
    {
     "data": {
      "text/plain": [
       "{'R1': 0.0431, 'MRR': 0.024, 'precision': 0.2089}"
      ]
     },
     "execution_count": 87,
     "metadata": {},
     "output_type": "execute_result"
    }
   ],
   "source": [
    "# top 100 by pred\n",
    "score(ALL_FOLDS)"
   ]
  },
  {
   "cell_type": "code",
   "execution_count": 85,
   "metadata": {},
   "outputs": [
    {
     "data": {
      "text/plain": [
       "{'R1': 0.046, 'MRR': 0.0258, 'precision': 0.2146}"
      ]
     },
     "execution_count": 85,
     "metadata": {},
     "output_type": "execute_result"
    }
   ],
   "source": [
    "# top 100 by pred_h (min-max scaled)\n",
    "score(ALL_FOLDS)"
   ]
  }
 ],
 "metadata": {
  "kernelspec": {
   "display_name": "Python 3",
   "language": "python",
   "name": "python3"
  },
  "language_info": {
   "codemirror_mode": {
    "name": "ipython",
    "version": 3
   },
   "file_extension": ".py",
   "mimetype": "text/x-python",
   "name": "python",
   "nbconvert_exporter": "python",
   "pygments_lexer": "ipython3",
   "version": "3.7.6"
  }
 },
 "nbformat": 4,
 "nbformat_minor": 4
}
